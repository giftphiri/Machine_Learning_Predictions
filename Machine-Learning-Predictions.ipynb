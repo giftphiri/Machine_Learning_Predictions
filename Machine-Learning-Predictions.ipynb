{
 "cells": [
  {
   "cell_type": "code",
   "execution_count": 116,
   "metadata": {},
   "outputs": [],
   "source": [
    "import pandas as pd\n",
    "from sklearn.tree import DecisionTreeClassifier\n",
    "from sklearn import tree\n",
    "\n",
    "# from sklearn.externals import joblib\n",
    "# from sklearn.model_selection import train_test_split\n",
    "# from sklearn.metrics import accuracy_score\n",
    "\n",
    "music_data = pd.read_csv('music.csv')\n",
    "X = music_data.drop(columns = ['genre'])\n",
    "y = music_data['genre']\n",
    "\n",
    "# 80% of data to be trained and 20% to be used for testing: \n",
    "\n",
    "# X_train, X_test, y_train, y_test = train_test_split(X, y , test_size = 0.2)\n",
    "\n",
    "model = DecisionTreeClassifier()\n",
    "model.fit(X, y)\n",
    "\n",
    "# model.fit(X_train, y_train)\n",
    "\n",
    "# to test the accuracy of the model's predictions by comparison to the real results:\n",
    "# score = accuracy_score(y_test, predictions)\n",
    "# score\n",
    "\n",
    "# to make a prediction of what the new user music recommendation would be based on age and gender:\n",
    "\n",
    "# model = joblib.load('music-recommender.joblib')\n",
    "# predictions = model.predict([[21, 1]])\n",
    "# predictions\n",
    "\n",
    "# to get a visual representation how the model makes a prediction: open this file in Visual Studio Code.\n",
    "\n",
    "tree.export_graphviz(model, out_file = 'music-recommender.dot',\n",
    "                    feature_names = ['age', 'gender'],\n",
    "                    class_names = sorted(y.unique()),\n",
    "                    label = 'all',\n",
    "                    rounded = True,\n",
    "                    filled = True)\n",
    "\n"
   ]
  }
 ],
 "metadata": {
  "kernelspec": {
   "display_name": "Python 3",
   "language": "python",
   "name": "python3"
  },
  "language_info": {
   "codemirror_mode": {
    "name": "ipython",
    "version": 3
   },
   "file_extension": ".py",
   "mimetype": "text/x-python",
   "name": "python",
   "nbconvert_exporter": "python",
   "pygments_lexer": "ipython3",
   "version": "3.7.3"
  }
 },
 "nbformat": 4,
 "nbformat_minor": 2
}
